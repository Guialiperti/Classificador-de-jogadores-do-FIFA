{
 "cells": [
  {
   "cell_type": "markdown",
   "metadata": {},
   "source": [
    "PROJETO 3 - CIÊNCIA DOS DADOS\n",
    "\n",
    "Grupo: Gabriel Moura, Felipe Aron e Guilherme Aliperti\n",
    "\n",
    "\n",
    "Projeto de regressão linear utilizando base de dados dos jogadores do FIFA. Pretendemos encontrar correlação entre o valor do jogador com suas outras características."
   ]
  },
  {
   "cell_type": "code",
   "execution_count": 1,
   "metadata": {
    "collapsed": false
   },
   "outputs": [],
   "source": [
    "import math\n",
    "import os.path\n",
    "import pandas as pd\n",
    "import json\n",
    "import numpy as np\n",
    "from matplotlib import pyplot as plt\n",
    "from random import shuffle\n",
    "from scipy.stats import linregress\n",
    "import statsmodels.api as sm"
   ]
  },
  {
   "cell_type": "code",
   "execution_count": 2,
   "metadata": {
    "collapsed": false
   },
   "outputs": [],
   "source": [
    "#Transforma os valores em float e sem os caracteres invalidos\n",
    "df_completo = pd.read_excel(\"dados_completo.xls\")\n",
    "lista_final_valor = []\n",
    "lista_final_sal = []\n",
    "\n",
    "    #Ajustando os Valores dos jogadores para números...\n",
    "for valores in df_completo[\"Value\"]:\n",
    "    valores = str(valores)\n",
    "    l = valores.split(\"¬\")\n",
    "    del l[0]\n",
    "    for x in l:\n",
    "        carac = x.split(\"M\")\n",
    "        if len(carac) == 2:\n",
    "            vf = float(carac[0]) * 1000000\n",
    "            lista_final_valor.append(vf)\n",
    "        else:\n",
    "            carac = x.split(\"K\")\n",
    "            vf = float(carac[0]) * 1000\n",
    "            lista_final_valor.append(vf)\n",
    "            \n",
    "# Ajustando os salários dos jogadores para números...          \n",
    "for valores in df_completo[\"Wage\"]:\n",
    "    valores = str(valores)\n",
    "    l = valores.split(\"¬\")\n",
    "    del l[0]\n",
    "    for x in l:\n",
    "        carac = x.split(\"M\")\n",
    "        if len(carac) == 2:\n",
    "            vf = float(carac[0]) * 1000000\n",
    "            lista_final_sal.append(vf)\n",
    "        else:\n",
    "            carac = x.split(\"K\")\n",
    "            vf = float(carac[0]) * 1000\n",
    "            lista_final_sal.append(vf)\n",
    "            \n",
    "# Cria o Novo Dataframe ajustado...\n",
    "df_valor_idade = pd.DataFrame({\"Valor\": lista_final_valor, \"Overall\": df_completo.Overall, \"Idade\": df_completo.Age,\"Salário\": lista_final_sal, \"Potencial\":df_completo.Potential})\n"
   ]
  },
  {
   "cell_type": "markdown",
   "metadata": {},
   "source": [
    "Vamos analisar o Rsquared por uma função de regressão linear:"
   ]
  },
  {
   "cell_type": "code",
   "execution_count": 12,
   "metadata": {
    "collapsed": false
   },
   "outputs": [
    {
     "name": "stdout",
     "output_type": "stream",
     "text": [
      "m = 8.171e-07 +- 0.0000\n",
      "b = 64.3 +- 0.0445\n",
      "\n",
      "R2 = 0.39188\n",
      "p of test F : 0.000000\n"
     ]
    }
   ],
   "source": [
    "# R2 do Overall em relação ao Valor\n",
    "\n",
    "def lin_regression(x, y):\n",
    "    m, b, R, p, SEm = linregress(x, y)\n",
    "\n",
    "    n = len(x)\n",
    "    SSx = np.var(x, ddof=1) * (n-1)  \n",
    "    SEb2 = SEm **2 * (SSx/n + np.mean(x)**2)\n",
    "    SEb = SEb2**0.5\n",
    "\n",
    "    return m, b, SEm, SEb, R, p\n",
    "\n",
    "m, b, Sm, Sb, R, p = lin_regression(lista_final_valor, df_completo.Overall)\n",
    "\n",
    "print('m = {:>.4g} +- {:6.4f}'.format(m, Sm))\n",
    "print('b = {:>.4g} +- {:6.4f}\\n'.format(b, Sb))\n",
    "\n",
    "print('R2 = {:7.5f}'.format(R**2))\n",
    "print('p of test F : {:<8.6f}'.format(p))\n",
    "\n"
   ]
  },
  {
   "cell_type": "code",
   "execution_count": 4,
   "metadata": {
    "collapsed": false
   },
   "outputs": [
    {
     "data": {
      "text/html": [
       "<div>\n",
       "<table border=\"1\" class=\"dataframe\">\n",
       "  <thead>\n",
       "    <tr style=\"text-align: right;\">\n",
       "      <th></th>\n",
       "      <th>Idade</th>\n",
       "      <th>Overall</th>\n",
       "      <th>Potencial</th>\n",
       "      <th>Salário</th>\n",
       "      <th>Valor</th>\n",
       "    </tr>\n",
       "  </thead>\n",
       "  <tbody>\n",
       "    <tr>\n",
       "      <th>count</th>\n",
       "      <td>17981.000000</td>\n",
       "      <td>17981.000000</td>\n",
       "      <td>17981.000000</td>\n",
       "      <td>17981.000000</td>\n",
       "      <td>1.798100e+04</td>\n",
       "    </tr>\n",
       "    <tr>\n",
       "      <th>mean</th>\n",
       "      <td>25.144541</td>\n",
       "      <td>66.247984</td>\n",
       "      <td>71.190813</td>\n",
       "      <td>11546.966242</td>\n",
       "      <td>2.385390e+06</td>\n",
       "    </tr>\n",
       "    <tr>\n",
       "      <th>std</th>\n",
       "      <td>4.614272</td>\n",
       "      <td>6.987965</td>\n",
       "      <td>6.102199</td>\n",
       "      <td>23080.000139</td>\n",
       "      <td>5.353970e+06</td>\n",
       "    </tr>\n",
       "    <tr>\n",
       "      <th>min</th>\n",
       "      <td>16.000000</td>\n",
       "      <td>46.000000</td>\n",
       "      <td>46.000000</td>\n",
       "      <td>0.000000</td>\n",
       "      <td>0.000000e+00</td>\n",
       "    </tr>\n",
       "    <tr>\n",
       "      <th>25%</th>\n",
       "      <td>21.000000</td>\n",
       "      <td>62.000000</td>\n",
       "      <td>67.000000</td>\n",
       "      <td>2000.000000</td>\n",
       "      <td>3.000000e+05</td>\n",
       "    </tr>\n",
       "    <tr>\n",
       "      <th>50%</th>\n",
       "      <td>25.000000</td>\n",
       "      <td>66.000000</td>\n",
       "      <td>71.000000</td>\n",
       "      <td>4000.000000</td>\n",
       "      <td>6.750000e+05</td>\n",
       "    </tr>\n",
       "    <tr>\n",
       "      <th>75%</th>\n",
       "      <td>28.000000</td>\n",
       "      <td>71.000000</td>\n",
       "      <td>75.000000</td>\n",
       "      <td>12000.000000</td>\n",
       "      <td>2.100000e+06</td>\n",
       "    </tr>\n",
       "    <tr>\n",
       "      <th>max</th>\n",
       "      <td>47.000000</td>\n",
       "      <td>94.000000</td>\n",
       "      <td>94.000000</td>\n",
       "      <td>565000.000000</td>\n",
       "      <td>1.230000e+08</td>\n",
       "    </tr>\n",
       "  </tbody>\n",
       "</table>\n",
       "</div>"
      ],
      "text/plain": [
       "              Idade       Overall     Potencial        Salário         Valor\n",
       "count  17981.000000  17981.000000  17981.000000   17981.000000  1.798100e+04\n",
       "mean      25.144541     66.247984     71.190813   11546.966242  2.385390e+06\n",
       "std        4.614272      6.987965      6.102199   23080.000139  5.353970e+06\n",
       "min       16.000000     46.000000     46.000000       0.000000  0.000000e+00\n",
       "25%       21.000000     62.000000     67.000000    2000.000000  3.000000e+05\n",
       "50%       25.000000     66.000000     71.000000    4000.000000  6.750000e+05\n",
       "75%       28.000000     71.000000     75.000000   12000.000000  2.100000e+06\n",
       "max       47.000000     94.000000     94.000000  565000.000000  1.230000e+08"
      ]
     },
     "execution_count": 4,
     "metadata": {},
     "output_type": "execute_result"
    }
   ],
   "source": [
    "df_valor_idade.describe()"
   ]
  },
  {
   "cell_type": "code",
   "execution_count": 5,
   "metadata": {
    "collapsed": false
   },
   "outputs": [
    {
     "data": {
      "text/plain": [
       "0.39187667210821164"
      ]
     },
     "execution_count": 5,
     "metadata": {},
     "output_type": "execute_result"
    }
   ],
   "source": [
    "# R2 do Overall em relação ao Valor\n",
    "Y = df_valor_idade.Valor\n",
    "X = df_valor_idade.Overall\n",
    "X = sm.add_constant(X)\n",
    "model = sm.OLS(Y,X)\n",
    "results = model.fit()\n",
    "results.summary()\n",
    "results.rsquared\n"
   ]
  },
  {
   "cell_type": "markdown",
   "metadata": {
    "collapsed": true
   },
   "source": [
    "Os resultados da regressão linear indicam que o overall do jogador explica quase 40% da variação do seu preço."
   ]
  },
  {
   "cell_type": "markdown",
   "metadata": {
    "collapsed": true
   },
   "source": [
    "Vamos agora avaliar a influência da idade no valor do jogador:"
   ]
  },
  {
   "cell_type": "code",
   "execution_count": 6,
   "metadata": {
    "collapsed": false
   },
   "outputs": [
    {
     "data": {
      "text/plain": [
       "0.0062899951432842105"
      ]
     },
     "execution_count": 6,
     "metadata": {},
     "output_type": "execute_result"
    }
   ],
   "source": [
    "# R2 da Idade em relação ao Valor\n",
    "Y = df_valor_idade.Valor\n",
    "X = df_valor_idade.Idade\n",
    "X = sm.add_constant(X)\n",
    "model = sm.OLS(Y,X)\n",
    "results = model.fit()\n",
    "results.summary()\n",
    "results.rsquared"
   ]
  },
  {
   "cell_type": "markdown",
   "metadata": {},
   "source": [
    "Por fim , vamos analisar a inflûencia do salário de cada jogador no valor dele:"
   ]
  },
  {
   "cell_type": "code",
   "execution_count": 7,
   "metadata": {
    "collapsed": false
   },
   "outputs": [
    {
     "data": {
      "text/plain": [
       "0.72336759331866829"
      ]
     },
     "execution_count": 7,
     "metadata": {},
     "output_type": "execute_result"
    }
   ],
   "source": [
    "# R2 do Salário em relação ao Valor\n",
    "Y = df_valor_idade.Valor\n",
    "X = df_valor_idade.Salário\n",
    "X = sm.add_constant(X)\n",
    "model = sm.OLS(Y,X)\n",
    "results = model.fit()\n",
    "results.summary()\n",
    "results.rsquared"
   ]
  },
  {
   "cell_type": "markdown",
   "metadata": {},
   "source": []
  },
  {
   "cell_type": "code",
   "execution_count": 8,
   "metadata": {
    "collapsed": false
   },
   "outputs": [
    {
     "data": {
      "text/plain": [
       "0.34583143211710443"
      ]
     },
     "execution_count": 8,
     "metadata": {},
     "output_type": "execute_result"
    }
   ],
   "source": [
    "# R2 do Potencial em relação ao Valor\n",
    "Y = df_valor_idade.Valor\n",
    "X = df_valor_idade.Potencial\n",
    "X = sm.add_constant(X)\n",
    "model = sm.OLS(Y,X)\n",
    "results = model.fit()\n",
    "results.summary()\n",
    "results.rsquared"
   ]
  },
  {
   "cell_type": "code",
   "execution_count": 9,
   "metadata": {
    "collapsed": false
   },
   "outputs": [
    {
     "data": {
      "text/plain": [
       "0.75737551312652207"
      ]
     },
     "execution_count": 9,
     "metadata": {},
     "output_type": "execute_result"
    }
   ],
   "source": [
    "# R2 do Overall,Potencial e Salário juntos em relação ao Valor\n",
    "Y = df_valor_idade.Valor\n",
    "X = df_valor_idade.loc[:, (\"Overall\", \"Potencial\",\"Salário\")]\n",
    "X = sm.add_constant(X)\n",
    "model = sm.OLS(Y,X)\n",
    "results = model.fit()\n",
    "results.summary()\n",
    "results.rsquared"
   ]
  },
  {
   "cell_type": "code",
   "execution_count": 13,
   "metadata": {
    "collapsed": false
   },
   "outputs": [
    {
     "name": "stdout",
     "output_type": "stream",
     "text": [
      "34\n"
     ]
    }
   ],
   "source": [
    "#Lista Atributos dos jogadores\n",
    "lista_atributos = list(df_completo)\n",
    "del lista_atributos[0:12]\n",
    "lista_atributos\n",
    "del lista_atributos[34:62]\n",
    "\n",
    "print(len(lista_atributos))\n",
    "\n",
    "\n"
   ]
  },
  {
   "cell_type": "code",
   "execution_count": 15,
   "metadata": {
    "collapsed": false,
    "scrolled": true
   },
   "outputs": [
    {
     "ename": "SyntaxError",
     "evalue": "invalid token (<string>, line 1)",
     "output_type": "error",
     "traceback": [
      "\u001b[0;36m  File \u001b[0;32m\"<string>\"\u001b[0;36m, line \u001b[0;32m1\u001b[0m\n\u001b[0;31m    2017-01-30 00:00:00\u001b[0m\n\u001b[0m          ^\u001b[0m\n\u001b[0;31mSyntaxError\u001b[0m\u001b[0;31m:\u001b[0m invalid token\n"
     ]
    }
   ],
   "source": [
    "# RSquared Dicionário\n",
    "rsquared = {}\n",
    "\n",
    "#Ajustando Somas e Subtrações no Excel\n",
    "for atributo in lista_atributos:\n",
    "    lista = []\n",
    "    for numeros in df_completo[atributo]:\n",
    "        n = eval(str(numeros))\n",
    "        lista.append(n)  \n",
    "# R2 de cada Atributo                \n",
    "    df_completo[atributo] = lista\n",
    "    Y = df_valor_idade.Overall\n",
    "    X = df_completo[atributo]\n",
    "    X = sm.add_constant(X)\n",
    "    model = sm.OLS(Y,X)\n",
    "    results = model.fit()\n",
    "    results.summary()\n",
    "    rsquared[atributo] = results.rsquared\n",
    "\n",
    "\n",
    "\n",
    "\n",
    "\n",
    "\n",
    "\n",
    "\n"
   ]
  },
  {
   "cell_type": "code",
   "execution_count": 16,
   "metadata": {
    "collapsed": false
   },
   "outputs": [
    {
     "name": "stdout",
     "output_type": "stream",
     "text": [
      "O atributo com maior R-Squared é: Acceleration\n"
     ]
    },
    {
     "ename": "ValueError",
     "evalue": "max() arg is an empty sequence",
     "output_type": "error",
     "traceback": [
      "\u001b[0;31m---------------------------------------------------------------------------\u001b[0m",
      "\u001b[0;31mValueError\u001b[0m                                Traceback (most recent call last)",
      "\u001b[0;32m<ipython-input-16-04ed38c6548e>\u001b[0m in \u001b[0;36m<module>\u001b[0;34m()\u001b[0m\n\u001b[1;32m      1\u001b[0m \u001b[0mprint\u001b[0m\u001b[1;33m(\u001b[0m\u001b[1;34m\"O atributo com maior R-Squared é: {0}\"\u001b[0m\u001b[1;33m.\u001b[0m\u001b[0mformat\u001b[0m\u001b[1;33m(\u001b[0m\u001b[0mmax\u001b[0m\u001b[1;33m(\u001b[0m\u001b[0mrsquared\u001b[0m\u001b[1;33m,\u001b[0m \u001b[0mkey\u001b[0m\u001b[1;33m=\u001b[0m\u001b[0mrsquared\u001b[0m\u001b[1;33m.\u001b[0m\u001b[0mget\u001b[0m\u001b[1;33m)\u001b[0m\u001b[1;33m)\u001b[0m\u001b[1;33m)\u001b[0m\u001b[1;33m\u001b[0m\u001b[0m\n\u001b[1;32m      2\u001b[0m \u001b[1;32mdel\u001b[0m \u001b[0mrsquared\u001b[0m\u001b[1;33m[\u001b[0m\u001b[0mmax\u001b[0m\u001b[1;33m(\u001b[0m\u001b[0mrsquared\u001b[0m\u001b[1;33m,\u001b[0m \u001b[0mkey\u001b[0m\u001b[1;33m=\u001b[0m\u001b[0mrsquared\u001b[0m\u001b[1;33m.\u001b[0m\u001b[0mget\u001b[0m\u001b[1;33m)\u001b[0m\u001b[1;33m]\u001b[0m\u001b[1;33m\u001b[0m\u001b[0m\n\u001b[0;32m----> 3\u001b[0;31m \u001b[0mprint\u001b[0m\u001b[1;33m(\u001b[0m\u001b[1;34m\"O segundo atributo com maior R-Squared é: {0}\"\u001b[0m\u001b[1;33m.\u001b[0m\u001b[0mformat\u001b[0m\u001b[1;33m(\u001b[0m\u001b[0mmax\u001b[0m\u001b[1;33m(\u001b[0m\u001b[0mrsquared\u001b[0m\u001b[1;33m,\u001b[0m \u001b[0mkey\u001b[0m\u001b[1;33m=\u001b[0m\u001b[0mrsquared\u001b[0m\u001b[1;33m.\u001b[0m\u001b[0mget\u001b[0m\u001b[1;33m)\u001b[0m\u001b[1;33m)\u001b[0m\u001b[1;33m)\u001b[0m\u001b[1;33m\u001b[0m\u001b[0m\n\u001b[0m\u001b[1;32m      4\u001b[0m \u001b[1;32mdel\u001b[0m \u001b[0mrsquared\u001b[0m\u001b[1;33m[\u001b[0m\u001b[0mmax\u001b[0m\u001b[1;33m(\u001b[0m\u001b[0mrsquared\u001b[0m\u001b[1;33m,\u001b[0m \u001b[0mkey\u001b[0m\u001b[1;33m=\u001b[0m\u001b[0mrsquared\u001b[0m\u001b[1;33m.\u001b[0m\u001b[0mget\u001b[0m\u001b[1;33m)\u001b[0m\u001b[1;33m]\u001b[0m\u001b[1;33m\u001b[0m\u001b[0m\n\u001b[1;32m      5\u001b[0m \u001b[0mprint\u001b[0m\u001b[1;33m(\u001b[0m\u001b[1;34m\"O terceiro atributo com maior R-Squared é: {0}\"\u001b[0m\u001b[1;33m.\u001b[0m\u001b[0mformat\u001b[0m\u001b[1;33m(\u001b[0m\u001b[0mmax\u001b[0m\u001b[1;33m(\u001b[0m\u001b[0mrsquared\u001b[0m\u001b[1;33m,\u001b[0m \u001b[0mkey\u001b[0m\u001b[1;33m=\u001b[0m\u001b[0mrsquared\u001b[0m\u001b[1;33m.\u001b[0m\u001b[0mget\u001b[0m\u001b[1;33m)\u001b[0m\u001b[1;33m)\u001b[0m\u001b[1;33m)\u001b[0m\u001b[1;33m\u001b[0m\u001b[0m\n",
      "\u001b[0;31mValueError\u001b[0m: max() arg is an empty sequence"
     ]
    }
   ],
   "source": [
    "print(\"O atributo com maior R-Squared é: {0}\".format(max(rsquared, key=rsquared.get)))\n",
    "del rsquared[max(rsquared, key=rsquared.get)]\n",
    "print(\"O segundo atributo com maior R-Squared é: {0}\".format(max(rsquared, key=rsquared.get)))\n",
    "del rsquared[max(rsquared, key=rsquared.get)]\n",
    "print(\"O terceiro atributo com maior R-Squared é: {0}\".format(max(rsquared, key=rsquared.get)))\n",
    "del rsquared[max(rsquared, key=rsquared.get)]\n",
    "print(\"O quarto atributo com maior R-Squared é: {0}\".format(max(rsquared, key=rsquared.get)))\n",
    "del rsquared[max(rsquared, key=rsquared.get)]\n",
    "print(\"O quinto atributo com maior R-Squared é: {0}\".format(max(rsquared, key=rsquared.get)))\n"
   ]
  },
  {
   "cell_type": "code",
   "execution_count": null,
   "metadata": {
    "collapsed": true
   },
   "outputs": [],
   "source": [
    "def atributos(a,b,c):\n",
    "    Y = df_valor_idade.Valor\n",
    "    X = df_completo.loc[:, (str(a),str(b),str(c))]\n",
    "    X = sm.add_constant(X)\n",
    "    model = sm.OLS(Y,X)\n",
    "    results = model.fit()\n",
    "    return results.rsquared\n",
    "   \n",
    "    \n",
    "for atributos in lista_atributos:\n",
    "    \n",
    "        "
   ]
  }
 ],
 "metadata": {
  "kernelspec": {
   "display_name": "Python 3",
   "language": "python",
   "name": "python3"
  },
  "language_info": {
   "codemirror_mode": {
    "name": "ipython",
    "version": 3
   },
   "file_extension": ".py",
   "mimetype": "text/x-python",
   "name": "python",
   "nbconvert_exporter": "python",
   "pygments_lexer": "ipython3",
   "version": "3.6.0"
  }
 },
 "nbformat": 4,
 "nbformat_minor": 2
}
