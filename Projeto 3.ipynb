{
 "cells": [
  {
   "cell_type": "markdown",
   "metadata": {},
   "source": [
    "Projeto de regressão linear utilizando base de dados dos jogadores do FIFA. Pretendemos encontrar correlação entre o valor do jogador com suas outras características.\n",
    "Grupo: Felipe Aron, Gabriel Moura e Guilherme Aliperti"
   ]
  },
  {
   "cell_type": "code",
   "execution_count": 18,
   "metadata": {
    "collapsed": false
   },
   "outputs": [],
   "source": [
    "import math\n",
    "import os.path\n",
    "import pandas as pd\n",
    "import json\n",
    "import numpy as np\n",
    "from matplotlib import pyplot as plt\n",
    "from random import shuffle\n",
    "from scipy.stats import linregress\n",
    "import statsmodels.api as sm"
   ]
  },
  {
   "cell_type": "code",
   "execution_count": 10,
   "metadata": {
    "collapsed": false
   },
   "outputs": [],
   "source": [
    "#Transforma os valores em float e sem os caracteres invalidos\n",
    "df_completo = pd.read_excel(\"dados_completo.xls\")\n",
    "lista_final = []\n",
    "for valores in df_completo[\"Value\"]:\n",
    "    l = valores.split(\"¬\")\n",
    "    del l[0]\n",
    "    for x in l:\n",
    "        carac = x.split(\"M\")\n",
    "        if len(carac) == 2:\n",
    "            vf = float(carac[0]) * 1000000\n",
    "            lista_final.append(vf)\n",
    "        else:\n",
    "            carac = x.split(\"K\")\n",
    "            vf = float(carac[0]) * 1000\n",
    "            lista_final.append(vf)\n",
    "            \n",
    "df_valor_idade = pd.DataFrame({\"Valor\": lista_final, \"Overall\": df_completo.Overall})"
   ]
  },
  {
   "cell_type": "code",
   "execution_count": 16,
   "metadata": {
    "collapsed": false
   },
   "outputs": [
    {
     "name": "stdout",
     "output_type": "stream",
     "text": [
      "m = 8.171e-07 +- 0.0000\n",
      "b = 64.3 +- 0.0445\n",
      "\n",
      "R2 = 0.39188\n",
      "p of test F : 0.000000\n"
     ]
    }
   ],
   "source": [
    "\n",
    "\n",
    "def lin_regression(x, y):\n",
    "    m, b, R, p, SEm = linregress(x, y)\n",
    "\n",
    "    n = len(x)\n",
    "    SSx = np.var(x, ddof=1) * (n-1)  \n",
    "    SEb2 = SEm **2 * (SSx/n + np.mean(x)**2)\n",
    "    SEb = SEb2**0.5\n",
    "\n",
    "    return m, b, SEm, SEb, R, p\n",
    "\n",
    "m, b, Sm, Sb, R, p = lin_regression(lista_final, df_completo.Overall)\n",
    "\n",
    "print('m = {:>.4g} +- {:6.4f}'.format(m, Sm))\n",
    "print('b = {:>.4g} +- {:6.4f}\\n'.format(b, Sb))\n",
    "\n",
    "print('R2 = {:7.5f}'.format(R**2))\n",
    "print('p of test F : {:<8.6f}'.format(p))"
   ]
  },
  {
   "cell_type": "code",
   "execution_count": 17,
   "metadata": {
    "collapsed": false
   },
   "outputs": [
    {
     "data": {
      "text/html": [
       "<table class=\"simpletable\">\n",
       "<caption>OLS Regression Results</caption>\n",
       "<tr>\n",
       "  <th>Dep. Variable:</th>          <td>Valor</td>      <th>  R-squared:         </th>  <td>   0.392</td>  \n",
       "</tr>\n",
       "<tr>\n",
       "  <th>Model:</th>                   <td>OLS</td>       <th>  Adj. R-squared:    </th>  <td>   0.392</td>  \n",
       "</tr>\n",
       "<tr>\n",
       "  <th>Method:</th>             <td>Least Squares</td>  <th>  F-statistic:       </th>  <td>1.159e+04</td> \n",
       "</tr>\n",
       "<tr>\n",
       "  <th>Date:</th>             <td>Tue, 07 Nov 2017</td> <th>  Prob (F-statistic):</th>   <td>  0.00</td>   \n",
       "</tr>\n",
       "<tr>\n",
       "  <th>Time:</th>                 <td>16:50:19</td>     <th>  Log-Likelihood:    </th> <td>-2.9963e+05</td>\n",
       "</tr>\n",
       "<tr>\n",
       "  <th>No. Observations:</th>      <td> 17981</td>      <th>  AIC:               </th>  <td>5.993e+05</td> \n",
       "</tr>\n",
       "<tr>\n",
       "  <th>Df Residuals:</th>          <td> 17979</td>      <th>  BIC:               </th>  <td>5.993e+05</td> \n",
       "</tr>\n",
       "<tr>\n",
       "  <th>Df Model:</th>              <td>     1</td>      <th>                     </th>      <td> </td>     \n",
       "</tr>\n",
       "<tr>\n",
       "  <th>Covariance Type:</th>      <td>nonrobust</td>    <th>                     </th>      <td> </td>     \n",
       "</tr>\n",
       "</table>\n",
       "<table class=\"simpletable\">\n",
       "<tr>\n",
       "     <td></td>        <th>coef</th>     <th>std err</th>      <th>t</th>      <th>P>|t|</th>  <th>[0.025</th>    <th>0.975]</th>  \n",
       "</tr>\n",
       "<tr>\n",
       "  <th>const</th>   <td>-2.939e+07</td> <td> 2.97e+05</td> <td>  -99.007</td> <td> 0.000</td> <td>   -3e+07</td> <td>-2.88e+07</td>\n",
       "</tr>\n",
       "<tr>\n",
       "  <th>Overall</th> <td> 4.796e+05</td> <td> 4455.929</td> <td>  107.637</td> <td> 0.000</td> <td> 4.71e+05</td> <td> 4.88e+05</td>\n",
       "</tr>\n",
       "</table>\n",
       "<table class=\"simpletable\">\n",
       "<tr>\n",
       "  <th>Omnibus:</th>       <td>24743.158</td> <th>  Durbin-Watson:     </th>  <td>   0.241</td>  \n",
       "</tr>\n",
       "<tr>\n",
       "  <th>Prob(Omnibus):</th>  <td> 0.000</td>   <th>  Jarque-Bera (JB):  </th> <td>9889576.720</td>\n",
       "</tr>\n",
       "<tr>\n",
       "  <th>Skew:</th>           <td> 7.858</td>   <th>  Prob(JB):          </th>  <td>    0.00</td>  \n",
       "</tr>\n",
       "<tr>\n",
       "  <th>Kurtosis:</th>       <td>116.811</td>  <th>  Cond. No.          </th>  <td>    635.</td>  \n",
       "</tr>\n",
       "</table>"
      ],
      "text/plain": [
       "<class 'statsmodels.iolib.summary.Summary'>\n",
       "\"\"\"\n",
       "                            OLS Regression Results                            \n",
       "==============================================================================\n",
       "Dep. Variable:                  Valor   R-squared:                       0.392\n",
       "Model:                            OLS   Adj. R-squared:                  0.392\n",
       "Method:                 Least Squares   F-statistic:                 1.159e+04\n",
       "Date:                Tue, 07 Nov 2017   Prob (F-statistic):               0.00\n",
       "Time:                        16:50:19   Log-Likelihood:            -2.9963e+05\n",
       "No. Observations:               17981   AIC:                         5.993e+05\n",
       "Df Residuals:                   17979   BIC:                         5.993e+05\n",
       "Df Model:                           1                                         \n",
       "Covariance Type:            nonrobust                                         \n",
       "==============================================================================\n",
       "                 coef    std err          t      P>|t|      [0.025      0.975]\n",
       "------------------------------------------------------------------------------\n",
       "const      -2.939e+07   2.97e+05    -99.007      0.000      -3e+07   -2.88e+07\n",
       "Overall     4.796e+05   4455.929    107.637      0.000    4.71e+05    4.88e+05\n",
       "==============================================================================\n",
       "Omnibus:                    24743.158   Durbin-Watson:                   0.241\n",
       "Prob(Omnibus):                  0.000   Jarque-Bera (JB):          9889576.720\n",
       "Skew:                           7.858   Prob(JB):                         0.00\n",
       "Kurtosis:                     116.811   Cond. No.                         635.\n",
       "==============================================================================\n",
       "\n",
       "Warnings:\n",
       "[1] Standard Errors assume that the covariance matrix of the errors is correctly specified.\n",
       "\"\"\""
      ]
     },
     "execution_count": 17,
     "metadata": {},
     "output_type": "execute_result"
    }
   ],
   "source": [
    "Y = df_valor_idade.Valor\n",
    "X = df_valor_idade.Overall\n",
    "X = sm.add_constant(X)\n",
    "model = sm.OLS(Y,X)\n",
    "results = model.fit()\n",
    "results.summary()"
   ]
  },
  {
   "cell_type": "markdown",
   "metadata": {
    "collapsed": true
   },
   "source": [
    "Os resultados da regressão linear indicam que o overall do jogador explica quase 40% da variação do seu preço."
   ]
  },
  {
   "cell_type": "code",
   "execution_count": null,
   "metadata": {
    "collapsed": true
   },
   "outputs": [],
   "source": []
  }
 ],
 "metadata": {
  "kernelspec": {
   "display_name": "Python 3",
   "language": "python",
   "name": "python3"
  },
  "language_info": {
   "codemirror_mode": {
    "name": "ipython",
    "version": 3
   },
   "file_extension": ".py",
   "mimetype": "text/x-python",
   "name": "python",
   "nbconvert_exporter": "python",
   "pygments_lexer": "ipython3",
   "version": "3.6.0"
  }
 },
 "nbformat": 4,
 "nbformat_minor": 2
}
