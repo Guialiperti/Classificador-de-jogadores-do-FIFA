{
 "cells": [
  {
   "cell_type": "markdown",
   "metadata": {},
   "source": [
    "Projeto de regressão linear utilizando base de dados dos jogadores do FIFA. Pretendemos encontrar correlação entre o valor do jogador com suas outras características.\n",
    "Grupo: Felipe Aron, Gabriel Moura e Guilherme Aliperti"
   ]
  },
  {
   "cell_type": "code",
   "execution_count": 2,
   "metadata": {
    "collapsed": false
   },
   "outputs": [],
   "source": [
    "import math\n",
    "import os.path\n",
    "import pandas as pd\n",
    "import json\n",
    "import numpy as np\n",
    "from matplotlib import pyplot as plt\n",
    "from random import shuffle\n",
    "from scipy.stats import linregress\n",
    "import statsmodels.api as sm"
   ]
  },
  {
   "cell_type": "code",
   "execution_count": 3,
   "metadata": {
    "collapsed": false
   },
   "outputs": [],
   "source": [
    "#Transforma os valores em float e sem os caracteres invalidos\n",
    "df_completo = pd.read_excel(\"dados_completo.xls\")\n",
    "lista_final_valor = []\n",
    "lista_final_sal = []\n",
    "\n",
    "#Para os Valores dos jogadores\n",
    "for valores in df_completo[\"Value\"]:\n",
    "    valores = str(valores)\n",
    "    l = valores.split(\"¬\")\n",
    "    del l[0]\n",
    "    for x in l:\n",
    "        carac = x.split(\"M\")\n",
    "        if len(carac) == 2:\n",
    "            vf = float(carac[0]) * 1000000\n",
    "            lista_final_valor.append(vf)\n",
    "        else:\n",
    "            carac = x.split(\"K\")\n",
    "            vf = float(carac[0]) * 1000\n",
    "            lista_final_valor.append(vf)\n",
    "            \n",
    "# Para os salários dos jogadores            \n",
    "for valores in df_completo[\"Wage\"]:\n",
    "    valores = str(valores)\n",
    "    l = valores.split(\"¬\")\n",
    "    del l[0]\n",
    "    for x in l:\n",
    "        carac = x.split(\"M\")\n",
    "        if len(carac) == 2:\n",
    "            vf = float(carac[0]) * 1000000\n",
    "            lista_final_sal.append(vf)\n",
    "        else:\n",
    "            carac = x.split(\"K\")\n",
    "            vf = float(carac[0]) * 1000\n",
    "            lista_final_sal.append(vf)\n",
    "            \n",
    "# Cria o Novo Dataframe \n",
    "df_valor_idade = pd.DataFrame({\"Valor\": lista_final_valor, \"Overall\": df_completo.Overall, \"Idade\": df_completo.Age,\"Salário\": lista_final_sal, \"Potencial\":df_completo.Potential})\n"
   ]
  },
  {
   "cell_type": "code",
   "execution_count": 4,
   "metadata": {
    "collapsed": false
   },
   "outputs": [
    {
     "name": "stdout",
     "output_type": "stream",
     "text": [
      "m = 8.171e-07 +- 0.0000\n",
      "b = 64.3 +- 0.0445\n",
      "\n",
      "R2 = 0.39188\n",
      "p of test F : 0.000000\n"
     ]
    }
   ],
   "source": [
    "# R2 do Overall em relação ao Valor\n",
    "\n",
    "def lin_regression(x, y):\n",
    "    m, b, R, p, SEm = linregress(x, y)\n",
    "\n",
    "    n = len(x)\n",
    "    SSx = np.var(x, ddof=1) * (n-1)  \n",
    "    SEb2 = SEm **2 * (SSx/n + np.mean(x)**2)\n",
    "    SEb = SEb2**0.5\n",
    "\n",
    "    return m, b, SEm, SEb, R, p\n",
    "\n",
    "m, b, Sm, Sb, R, p = lin_regression(lista_final_valor, df_completo.Overall)\n",
    "\n",
    "print('m = {:>.4g} +- {:6.4f}'.format(m, Sm))\n",
    "print('b = {:>.4g} +- {:6.4f}\\n'.format(b, Sb))\n",
    "\n",
    "print('R2 = {:7.5f}'.format(R**2))\n",
    "print('p of test F : {:<8.6f}'.format(p))\n",
    "\n"
   ]
  },
  {
   "cell_type": "code",
   "execution_count": 5,
   "metadata": {
    "collapsed": false
   },
   "outputs": [
    {
     "data": {
      "text/html": [
       "<div>\n",
       "<table border=\"1\" class=\"dataframe\">\n",
       "  <thead>\n",
       "    <tr style=\"text-align: right;\">\n",
       "      <th></th>\n",
       "      <th>Idade</th>\n",
       "      <th>Overall</th>\n",
       "      <th>Potencial</th>\n",
       "      <th>Salário</th>\n",
       "      <th>Valor</th>\n",
       "    </tr>\n",
       "  </thead>\n",
       "  <tbody>\n",
       "    <tr>\n",
       "      <th>count</th>\n",
       "      <td>17981.000000</td>\n",
       "      <td>17981.000000</td>\n",
       "      <td>17981.000000</td>\n",
       "      <td>17981.000000</td>\n",
       "      <td>1.798100e+04</td>\n",
       "    </tr>\n",
       "    <tr>\n",
       "      <th>mean</th>\n",
       "      <td>25.144541</td>\n",
       "      <td>66.247984</td>\n",
       "      <td>71.190813</td>\n",
       "      <td>11546.966242</td>\n",
       "      <td>2.385390e+06</td>\n",
       "    </tr>\n",
       "    <tr>\n",
       "      <th>std</th>\n",
       "      <td>4.614272</td>\n",
       "      <td>6.987965</td>\n",
       "      <td>6.102199</td>\n",
       "      <td>23080.000139</td>\n",
       "      <td>5.353970e+06</td>\n",
       "    </tr>\n",
       "    <tr>\n",
       "      <th>min</th>\n",
       "      <td>16.000000</td>\n",
       "      <td>46.000000</td>\n",
       "      <td>46.000000</td>\n",
       "      <td>0.000000</td>\n",
       "      <td>0.000000e+00</td>\n",
       "    </tr>\n",
       "    <tr>\n",
       "      <th>25%</th>\n",
       "      <td>21.000000</td>\n",
       "      <td>62.000000</td>\n",
       "      <td>67.000000</td>\n",
       "      <td>2000.000000</td>\n",
       "      <td>3.000000e+05</td>\n",
       "    </tr>\n",
       "    <tr>\n",
       "      <th>50%</th>\n",
       "      <td>25.000000</td>\n",
       "      <td>66.000000</td>\n",
       "      <td>71.000000</td>\n",
       "      <td>4000.000000</td>\n",
       "      <td>6.750000e+05</td>\n",
       "    </tr>\n",
       "    <tr>\n",
       "      <th>75%</th>\n",
       "      <td>28.000000</td>\n",
       "      <td>71.000000</td>\n",
       "      <td>75.000000</td>\n",
       "      <td>12000.000000</td>\n",
       "      <td>2.100000e+06</td>\n",
       "    </tr>\n",
       "    <tr>\n",
       "      <th>max</th>\n",
       "      <td>47.000000</td>\n",
       "      <td>94.000000</td>\n",
       "      <td>94.000000</td>\n",
       "      <td>565000.000000</td>\n",
       "      <td>1.230000e+08</td>\n",
       "    </tr>\n",
       "  </tbody>\n",
       "</table>\n",
       "</div>"
      ],
      "text/plain": [
       "              Idade       Overall     Potencial        Salário         Valor\n",
       "count  17981.000000  17981.000000  17981.000000   17981.000000  1.798100e+04\n",
       "mean      25.144541     66.247984     71.190813   11546.966242  2.385390e+06\n",
       "std        4.614272      6.987965      6.102199   23080.000139  5.353970e+06\n",
       "min       16.000000     46.000000     46.000000       0.000000  0.000000e+00\n",
       "25%       21.000000     62.000000     67.000000    2000.000000  3.000000e+05\n",
       "50%       25.000000     66.000000     71.000000    4000.000000  6.750000e+05\n",
       "75%       28.000000     71.000000     75.000000   12000.000000  2.100000e+06\n",
       "max       47.000000     94.000000     94.000000  565000.000000  1.230000e+08"
      ]
     },
     "execution_count": 5,
     "metadata": {},
     "output_type": "execute_result"
    }
   ],
   "source": [
    "df_valor_idade.describe()"
   ]
  },
  {
   "cell_type": "code",
   "execution_count": 6,
   "metadata": {
    "collapsed": false
   },
   "outputs": [
    {
     "data": {
      "text/plain": [
       "0.39187667210821164"
      ]
     },
     "execution_count": 6,
     "metadata": {},
     "output_type": "execute_result"
    }
   ],
   "source": [
    "# R2 do Overall em relação ao Valor\n",
    "Y = df_valor_idade.Valor\n",
    "X = df_valor_idade.Overall\n",
    "X = sm.add_constant(X)\n",
    "model = sm.OLS(Y,X)\n",
    "results = model.fit()\n",
    "results.summary()\n",
    "results.rsquared\n"
   ]
  },
  {
   "cell_type": "markdown",
   "metadata": {
    "collapsed": true
   },
   "source": [
    "Os resultados da regressão linear indicam que o overall do jogador explica quase 40% da variação do seu preço."
   ]
  },
  {
   "cell_type": "markdown",
   "metadata": {
    "collapsed": true
   },
   "source": [
    "Vamos agora avaliar a influência da idade no valor do jogador:"
   ]
  },
  {
   "cell_type": "code",
   "execution_count": 7,
   "metadata": {
    "collapsed": false
   },
   "outputs": [
    {
     "data": {
      "text/plain": [
       "0.0062899951432842105"
      ]
     },
     "execution_count": 7,
     "metadata": {},
     "output_type": "execute_result"
    }
   ],
   "source": [
    "# R2 da Idade em relação ao Valor\n",
    "Y = df_valor_idade.Valor\n",
    "X = df_valor_idade.Idade\n",
    "X = sm.add_constant(X)\n",
    "model = sm.OLS(Y,X)\n",
    "results = model.fit()\n",
    "results.summary()\n",
    "results.rsquared"
   ]
  },
  {
   "cell_type": "markdown",
   "metadata": {},
   "source": [
    "Por fim , vamos analisar a inflûencia do salário de cada jogador no valor dele:"
   ]
  },
  {
   "cell_type": "code",
   "execution_count": 8,
   "metadata": {
    "collapsed": false
   },
   "outputs": [
    {
     "data": {
      "text/plain": [
       "0.72336759331866829"
      ]
     },
     "execution_count": 8,
     "metadata": {},
     "output_type": "execute_result"
    }
   ],
   "source": [
    "# R2 do Salário em relação ao Valor\n",
    "Y = df_valor_idade.Valor\n",
    "X = df_valor_idade.Salário\n",
    "X = sm.add_constant(X)\n",
    "model = sm.OLS(Y,X)\n",
    "results = model.fit()\n",
    "results.summary()\n",
    "results.rsquared"
   ]
  },
  {
   "cell_type": "markdown",
   "metadata": {},
   "source": []
  },
  {
   "cell_type": "code",
   "execution_count": 9,
   "metadata": {
    "collapsed": false
   },
   "outputs": [
    {
     "data": {
      "text/plain": [
       "0.34583143211710443"
      ]
     },
     "execution_count": 9,
     "metadata": {},
     "output_type": "execute_result"
    }
   ],
   "source": [
    "# R2 do Potencial em relação ao Valor\n",
    "Y = df_valor_idade.Valor\n",
    "X = df_valor_idade.Potencial\n",
    "X = sm.add_constant(X)\n",
    "model = sm.OLS(Y,X)\n",
    "results = model.fit()\n",
    "results.summary()\n",
    "results.rsquared"
   ]
  },
  {
   "cell_type": "code",
   "execution_count": 10,
   "metadata": {
    "collapsed": false
   },
   "outputs": [
    {
     "data": {
      "text/plain": [
       "0.75737551312652207"
      ]
     },
     "execution_count": 10,
     "metadata": {},
     "output_type": "execute_result"
    }
   ],
   "source": [
    "# R2 do Overall,Potencial e Salário juntos em relação ao Valor\n",
    "Y = df_valor_idade.Valor\n",
    "X = df_valor_idade.loc[:, (\"Overall\", \"Potencial\",\"Salário\")]\n",
    "X = sm.add_constant(X)\n",
    "model = sm.OLS(Y,X)\n",
    "results = model.fit()\n",
    "results.summary()\n",
    "results.rsquared"
   ]
  },
  {
   "cell_type": "code",
   "execution_count": null,
   "metadata": {
    "collapsed": false
   },
   "outputs": [],
   "source": []
  },
  {
   "cell_type": "code",
   "execution_count": 22,
   "metadata": {
    "collapsed": false
   },
   "outputs": [
    {
     "ename": "SyntaxError",
     "evalue": "EOF while scanning triple-quoted string literal (<ipython-input-22-018984c7d9d2>, line 31)",
     "output_type": "error",
     "traceback": [
      "\u001b[0;36m  File \u001b[0;32m\"<ipython-input-22-018984c7d9d2>\"\u001b[0;36m, line \u001b[0;32m31\u001b[0m\n\u001b[0;31m    print(results.rsquared)'''\u001b[0m\n\u001b[0m                              ^\u001b[0m\n\u001b[0;31mSyntaxError\u001b[0m\u001b[0;31m:\u001b[0m EOF while scanning triple-quoted string literal\n"
     ]
    }
   ],
   "source": [
    "#Lista Atributos dos jogadores\n",
    "lista_atributos = list(df_completo)\n",
    "del lista_atributos[0:12]\n",
    "lista_atributos\n",
    "del lista_atributos[34:62]\n",
    "\n",
    "for atributo in lista_atributos:\n",
    "    for numeros in df_completo[atributo]:\n",
    "        lista = []\n",
    "        n1 = str(numeros)\n",
    "        n2 = n1.split(\"+\")\n",
    "        if len(n2) == 2:\n",
    "            n3 = n2[0] + n2[1]\n",
    "            lista.append(float(n3))\n",
    "        else:\n",
    "            n4 = str(n2[0])\n",
    "            n5 = n4.split(\"-\")\n",
    "            if len(n5) == 2:\n",
    "                n6 = float(n5[0]) - float(n5[1])\n",
    "                lista.append(n6)\n",
    "            else:\n",
    "                n7 = float(n5[0])\n",
    "                lista.append(n7)\n",
    "        df_completo[atributo] = lista\n",
    "        Y = df_valor_idade.Valor\n",
    "        X = df_completo[atributo]\n",
    "        X = sm.add_constant(X)\n",
    "        model = sm.OLS(Y,X)\n",
    "        results = model.fit()\n",
    "        results.summary()\n",
    "        print(results.rsquared)'''\n",
    "\n"
   ]
  },
  {
   "cell_type": "code",
   "execution_count": null,
   "metadata": {
    "collapsed": true
   },
   "outputs": [],
   "source": []
  },
  {
   "cell_type": "code",
   "execution_count": null,
   "metadata": {
    "collapsed": true
   },
   "outputs": [],
   "source": []
  },
  {
   "cell_type": "code",
   "execution_count": null,
   "metadata": {
    "collapsed": true
   },
   "outputs": [],
   "source": []
  }
 ],
 "metadata": {
  "kernelspec": {
   "display_name": "Python 3",
   "language": "python",
   "name": "python3"
  },
  "language_info": {
   "codemirror_mode": {
    "name": "ipython",
    "version": 3
   },
   "file_extension": ".py",
   "mimetype": "text/x-python",
   "name": "python",
   "nbconvert_exporter": "python",
   "pygments_lexer": "ipython3",
   "version": "3.6.0"
  }
 },
 "nbformat": 4,
 "nbformat_minor": 2
}
